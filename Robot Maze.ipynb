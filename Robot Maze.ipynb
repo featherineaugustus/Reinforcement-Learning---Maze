{
 "cells": [
  {
   "cell_type": "markdown",
   "metadata": {},
   "source": [
    "# Reinforcement Learning Project: Maze\n",
    "\n",
    "We create a 6 by 6 maze for an agent to navigate out.\n",
    "\n",
    "This tutorial is editted from this post.\n",
    "\n",
    "https://towardsdatascience.com/hands-on-introduction-to-reinforcement-learning-in-python-da07f7aaca88"
   ]
  },
  {
   "cell_type": "markdown",
   "metadata": {},
   "source": [
    "# Import Library and Define Possible Actions"
   ]
  },
  {
   "cell_type": "code",
   "execution_count": 1,
   "metadata": {},
   "outputs": [],
   "source": [
    "import numpy as np\n",
    "import matplotlib.pyplot as plt\n",
    "import matplotlib\n",
    "\n",
    "# Possible Action that can be done by the agent\n",
    "ACTIONS = {'U': (-1, 0), 'D': (1, 0), 'L': (0, -1), 'R': (0, 1)}"
   ]
  },
  {
   "cell_type": "markdown",
   "metadata": {},
   "source": [
    "# Maze"
   ]
  },
  {
   "cell_type": "code",
   "execution_count": 2,
   "metadata": {},
   "outputs": [
    {
     "data": {
      "image/png": "[encoded data removed]",
      "text/plain": [
       "<Figure size 480x480 with 1 Axes>"
      ]
     },
     "metadata": {
      "needs_background": "light"
     },
     "output_type": "display_data"
    }
   ],
   "source": [
    "maze = np.zeros((6, 6))\n",
    "maze[5, :5] = -10000\n",
    "maze[:4, 5] = -10000\n",
    "maze[2, 2:] = -10000\n",
    "maze[3, 2] = -10000\n",
    "        \n",
    "plt.figure(figsize=(6, 6), dpi=80)\n",
    "plt.imshow(maze, \n",
    "           cmap='hot', \n",
    "          )\n",
    "\n",
    "plt.text(4.75, 5.05, 'Goal', color='black', \n",
    "         bbox=dict(fill=False, edgecolor='red', linewidth=2))\n",
    "plt.text(-0.25, 0.05, 'Start', color='black', \n",
    "         bbox=dict(fill=False, edgecolor='red', linewidth=2))\n",
    "    \n",
    "ax = plt.gca();\n",
    "\n",
    "# Major ticks\n",
    "ax.set_xticks(np.arange(0, 6, 1))\n",
    "ax.set_yticks(np.arange(0, 6, 1))\n",
    "\n",
    "# Labels for major ticks\n",
    "ax.set_xticklabels(np.arange(1, 7, 1))\n",
    "ax.set_yticklabels(np.arange(1, 7, 1))\n",
    "\n",
    "# Minor ticks\n",
    "ax.set_xticks(np.arange(-.5, 6, 1), minor=True)\n",
    "ax.set_yticks(np.arange(-.5, 6, 1), minor=True)\n",
    "\n",
    "# Gridlines based on minor ticks\n",
    "ax.grid(which='minor', color='k', linestyle='-', linewidth=2)\n",
    "    \n",
    "plt.title('Maze')\n",
    "plt.xlabel('x-axis')\n",
    "plt.ylabel('y-axis')\n",
    "\n",
    "plt.show()"
   ]
  },
  {
   "cell_type": "markdown",
   "metadata": {},
   "source": [
    "# Define Maze Class\n",
    "\n",
    "## Initialize\n",
    "1. Maze\n",
    "2. Track movement history\n",
    "3. Robot position, allowed states, etc\n",
    "\n",
    "## Methods\n",
    "1. is_allowed_move: Check if the agent is allowed to move in this direction\n",
    "2. construct_allowed_states: Check where is the agent allowed to move\n",
    "3. update_maze: Update the position of the agent\n",
    "4. is_game_over: Check if the game is ended\n",
    "5. give_reward: Compute the reward after each actions\n",
    "6. get_state_and_reward: Get the position and reward after each action"
   ]
  },
  {
   "cell_type": "code",
   "execution_count": 3,
   "metadata": {},
   "outputs": [],
   "source": [
    "class Maze(object):\n",
    "    \n",
    "    def __init__(self):\n",
    "\n",
    "        #################################################################\n",
    "        # Defining the Maze\n",
    "        #################################################################\n",
    "        self.maze = np.zeros((6, 6))\n",
    "        self.maze[0, 0] = 2\n",
    "        self.maze[5, :5] = 1\n",
    "        self.maze[:4, 5] = 1\n",
    "        self.maze[2, 2:] = 1\n",
    "        self.maze[3, 2] = 1\n",
    "        \n",
    "        #################################################################\n",
    "        # Keep track of movement history\n",
    "        #################################################################\n",
    "        self.movement_history = []\n",
    "        \n",
    "        #################################################################\n",
    "        # Others\n",
    "        #################################################################\n",
    "        self.robot_position = (0, 0)     # current robot position\n",
    "        self.steps = 0                   # contains num steps robot took\n",
    "        self.allowed_states = None       # for now, this is none\n",
    "        self.construct_allowed_states()  # not implemented yet\n",
    "        \n",
    "        \n",
    "    #################################################################\n",
    "    # Check if the agent is allowed to move in a specific direction\n",
    "    #################################################################\n",
    "    def is_allowed_move(self, state, action):\n",
    "        y, x = state\n",
    "        y += ACTIONS[action][0]\n",
    "        x += ACTIONS[action][1]\n",
    "        \n",
    "        # Moving off the board\n",
    "        if ((y < 0) or \n",
    "            (x < 0) or \n",
    "            (y > 5) or \n",
    "            (x > 5)):\n",
    "             return False\n",
    "        \n",
    "        # Moving into start position or empty space\n",
    "        if self.maze[y, x] == 1:\n",
    "            return False\n",
    "        else:\n",
    "            return True\n",
    "        \n",
    "    #################################################################\n",
    "    # Find all the directions that the agent is allowed to move\n",
    "    #################################################################\n",
    "    def construct_allowed_states(self):\n",
    "        allowed_states = {}\n",
    "        for y, row in enumerate(self.maze):\n",
    "            for x, col in enumerate(row):\n",
    "                # Iterate through all valid spaces\n",
    "                if self.maze[(y,x)] != 1:\n",
    "                    allowed_states[(y,x)] = []\n",
    "                    for action in ACTIONS:\n",
    "                        if self.is_allowed_move((y, x), action):\n",
    "                            allowed_states[(y,x)].append(action)\n",
    "                            \n",
    "        self.allowed_states = allowed_states\n",
    "        \n",
    "        \n",
    "    #################################################################\n",
    "    # Update the position of the agent within the maze\n",
    "    #################################################################\n",
    "    def update_maze(self, action):\n",
    "        \n",
    "        y, x = self.robot_position\n",
    "        \n",
    "        # Set the current position to empty\n",
    "        self.maze[y, x] = 0\n",
    "        \n",
    "        # Find new position\n",
    "        y += ACTIONS[action][0]\n",
    "        x += ACTIONS[action][1]\n",
    "        self.robot_position = (y, x)\n",
    "        self.maze[y, x] = 2\n",
    "        self.steps += 1\n",
    "        \n",
    "        # Keep track of the path the agent moved\n",
    "        self.movement_history.append(action)\n",
    "\n",
    "        \n",
    "    #################################################################\n",
    "    # If the agent reach the end, ends the game\n",
    "    #################################################################\n",
    "    def is_game_over(self):\n",
    "        if self.robot_position == (5, 5):\n",
    "            \n",
    "            #print('Actions required:', self.steps)\n",
    "            #print(self.maze)\n",
    "            #print('Actions:', self.movement_history)\n",
    "            \n",
    "            return True\n",
    "        return False\n",
    "    \n",
    "    #################################################################\n",
    "    # At every step, give reward\n",
    "    #################################################################\n",
    "    def give_reward(self):\n",
    "        if self.robot_position == (5, 5):\n",
    "            return 0\n",
    "        else:\n",
    "            return -1\n",
    "        \n",
    "    #################################################################\n",
    "    # Update agent position and reward\n",
    "    #################################################################\n",
    "    def get_state_and_reward(self):\n",
    "        return self.robot_position, self.give_reward()"
   ]
  },
  {
   "cell_type": "markdown",
   "metadata": {},
   "source": [
    "# Define Agent Class\n",
    "\n",
    "## Initialize\n",
    "1. State history\n",
    "2. Alpha - Learning rate\n",
    "3. Random factor - Exploration rate\n",
    "4. Reward table G\n",
    "\n",
    "## Methods\n",
    "1. init_reward: Generate a random reward table\n",
    "2. choose_action: From the list of actions allowed, select one action to perform based on G and random factor\n",
    "3. update_state_history: Update the state and reward\n",
    "4. learn: Update the reward table G"
   ]
  },
  {
   "cell_type": "code",
   "execution_count": 4,
   "metadata": {},
   "outputs": [],
   "source": [
    "class Agent(object):\n",
    "    \n",
    "    def __init__(self, states, alpha=0.15, random_factor=0.2):\n",
    "        \n",
    "        #################################################################\n",
    "        # Define intial variables\n",
    "        #################################################################\n",
    "        self.state_history = [((0, 0), 0)] # State (x,y), reward\n",
    "        self.alpha = alpha                 # Learning rate\n",
    "        self.random_factor = random_factor # Exploration rate\n",
    "        \n",
    "        #################################################################\n",
    "        # Initialize reward table\n",
    "        #################################################################\n",
    "        self.G = {}\n",
    "        self.init_reward(states)\n",
    "        \n",
    "    #################################################################\n",
    "    # Initalize reward table with values 0.1-1.0\n",
    "    #################################################################\n",
    "    def init_reward(self, states):\n",
    "        for i, row in enumerate(states):\n",
    "            for j, col in enumerate(row):\n",
    "                self.G[(j,i)] = np.random.uniform(high=1.0, low=0.1)\n",
    "                \n",
    "    #################################################################\n",
    "    # Choose direction to move\n",
    "    #################################################################\n",
    "    def choose_action(self, state, allowed_moves):\n",
    "        next_move = None\n",
    "        \n",
    "        # Generate a random number 0 to 1\n",
    "        n = np.random.random()\n",
    "        \n",
    "        # If n < self.random_factor -> Explore -> Go any random move\n",
    "        if n < self.random_factor:\n",
    "            next_move = np.random.choice(allowed_moves)\n",
    "            \n",
    "        # Eploit -> Go the path with highest expected reward\n",
    "        else:\n",
    "            # some really small random number\n",
    "            maxG = -10e15\n",
    "            \n",
    "            # From all the allowed move\n",
    "            # Find the one with the highest reward and go there\n",
    "            for action in allowed_moves:\n",
    "                new_state = tuple([sum(x) for x in zip(state, ACTIONS[action])])\n",
    "                if self.G[new_state] >= maxG:\n",
    "                    next_move = action\n",
    "                    maxG = self.G[new_state]\n",
    "        return next_move\n",
    "    \n",
    "    #################################################################\n",
    "    # Update the state history\n",
    "    #################################################################\n",
    "    def update_state_history(self, state, reward):\n",
    "        self.state_history.append((state, reward))\n",
    "\n",
    "        \n",
    "    #################################################################\n",
    "    # Update the reward table\n",
    "    #################################################################\n",
    "    def learn(self):\n",
    "        target = 0\n",
    "\n",
    "        for prev, reward in reversed(self.state_history):\n",
    "            self.G[prev] = self.G[prev] + self.alpha * (target - self.G[prev])\n",
    "            target += reward\n",
    "\n",
    "        self.state_history = []\n",
    "        \n",
    "        # Reduce exploration rate over time\n",
    "        self.random_factor -= 10e-5 # decrease random factor each episode of play\n",
    "        #print(self.random_factor)"
   ]
  },
  {
   "cell_type": "markdown",
   "metadata": {},
   "source": [
    "# Check the inital reward table of the agent"
   ]
  },
  {
   "cell_type": "code",
   "execution_count": 5,
   "metadata": {},
   "outputs": [
    {
     "data": {
      "text/plain": [
       "{(0, 0): 0.6865168381665581,\n",
       " (1, 0): 0.5391660596384168,\n",
       " (2, 0): 0.6909686390759163,\n",
       " (3, 0): 0.709166432970678,\n",
       " (4, 0): 0.15728293202701865,\n",
       " (5, 0): 0.19235219752176086,\n",
       " (0, 1): 0.279024867432024,\n",
       " (1, 1): 0.5616933572350715,\n",
       " (2, 1): 0.9102583462147209,\n",
       " (3, 1): 0.23374076504585004,\n",
       " (4, 1): 0.10256606789962985,\n",
       " (5, 1): 0.7826124751254171,\n",
       " (0, 2): 0.7852974969927824,\n",
       " (1, 2): 0.5482857406953251,\n",
       " (2, 2): 0.21547121319555101,\n",
       " (3, 2): 0.8229192051017692,\n",
       " (4, 2): 0.5922189358242035,\n",
       " (5, 2): 0.1658835033375595,\n",
       " (0, 3): 0.7541021936011574,\n",
       " (1, 3): 0.3777017998312814,\n",
       " (2, 3): 0.39959712822668403,\n",
       " (3, 3): 0.7314054403389677,\n",
       " (4, 3): 0.8641199287831411,\n",
       " (5, 3): 0.4417491884685587,\n",
       " (0, 4): 0.8118227521109258,\n",
       " (1, 4): 0.38963842226364076,\n",
       " (2, 4): 0.3656756703289784,\n",
       " (3, 4): 0.7687742928287928,\n",
       " (4, 4): 0.678225164889188,\n",
       " (5, 4): 0.5647440929217685,\n",
       " (0, 5): 0.5019915405522208,\n",
       " (1, 5): 0.6035103409578886,\n",
       " (2, 5): 0.9289110072305945,\n",
       " (3, 5): 0.4300732889486244,\n",
       " (4, 5): 0.781093454174024,\n",
       " (5, 5): 0.2911312178467672}"
      ]
     },
     "execution_count": 5,
     "metadata": {},
     "output_type": "execute_result"
    }
   ],
   "source": [
    "maze = Maze()\n",
    "robot = Agent(maze.maze, \n",
    "              alpha=0.1,         # Learning rate \n",
    "              random_factor=0.25 # Exploration rate\n",
    "             )\n",
    "\n",
    "robot.G"
   ]
  },
  {
   "cell_type": "markdown",
   "metadata": {},
   "source": [
    "# Run main and let the agent learn from the environment"
   ]
  },
  {
   "cell_type": "code",
   "execution_count": 6,
   "metadata": {},
   "outputs": [
    {
     "name": "stdout",
     "output_type": "stream",
     "text": [
      "\n",
      "Loop: 1\n",
      "['R', 'D', 'U', 'D', 'U', 'D', 'U', 'D', 'U', 'D', 'U', 'D', 'U', 'D', 'U', 'D', 'U', 'D', 'U', 'D', 'U', 'D', 'R', 'L', 'D', 'U', 'U', 'D', 'U', 'D', 'L', 'R', 'U', 'D', 'U', 'D', 'D', 'L', 'D', 'U', 'U', 'D', 'D', 'U', 'D', 'U', 'D', 'U', 'D', 'U', 'D', 'U', 'D', 'D', 'U', 'U', 'D', 'U', 'D', 'R', 'D', 'L', 'U', 'U', 'D', 'U', 'D', 'U', 'D', 'U', 'D', 'D', 'R', 'L', 'U', 'U', 'D', 'U', 'D', 'R', 'D', 'R', 'L', 'L', 'R', 'L', 'R', 'L', 'R', 'L', 'R', 'R', 'R', 'U', 'R', 'D', 'R', 'D']\n",
      "\n",
      "Loop: 251\n",
      "['D', 'R', 'D', 'D', 'D', 'R', 'L', 'R', 'L', 'R', 'R', 'R', 'R', 'D']\n",
      "\n",
      "Loop: 501\n",
      "['D', 'D', 'D', 'D', 'U', 'D', 'R', 'R', 'R', 'R', 'R', 'D']\n",
      "\n",
      "Loop: 751\n",
      "['D', 'U', 'D', 'D', 'D', 'R', 'D', 'R', 'R', 'R', 'R', 'D']\n",
      "\n",
      "Loop: 1001\n",
      "['D', 'D', 'D', 'R', 'D', 'R', 'R', 'R', 'R', 'D']\n",
      "\n",
      "Loop: 1251\n",
      "['R', 'D', 'D', 'D', 'L', 'D', 'R', 'R', 'R', 'R', 'R', 'L', 'U', 'D', 'R', 'D']\n",
      "\n",
      "Loop: 1501\n",
      "['D', 'D', 'D', 'D', 'R', 'R', 'R', 'R', 'R', 'D']\n",
      "\n",
      "Loop: 1751\n",
      "['D', 'R', 'D', 'D', 'D', 'R', 'R', 'R', 'R', 'D']\n",
      "\n",
      "Loop: 2001\n",
      "['R', 'D', 'D', 'D', 'D', 'R', 'R', 'R', 'R', 'D']\n",
      "\n",
      "Loop: 2251\n",
      "['D', 'U', 'D', 'D', 'D', 'R', 'D', 'R', 'R', 'R', 'R', 'D']\n",
      "\n",
      "Loop: 2501\n",
      "['D', 'D', 'D', 'R', 'D', 'R', 'R', 'R', 'R', 'D']\n",
      "\n",
      "Loop: 2751\n",
      "['D', 'D', 'D', 'R', 'D', 'R', 'R', 'R', 'R', 'D']\n"
     ]
    }
   ],
   "source": [
    "if __name__ == '__main__':\n",
    "    \n",
    "    # Create Maze and Agent\n",
    "    maze = Maze()\n",
    "    robot = Agent(maze.maze, \n",
    "                  alpha=0.1,         # Learning rate \n",
    "                  random_factor=0.25 # Exploration rate\n",
    "                 )\n",
    "    \n",
    "    moveHistory = []\n",
    "\n",
    "    # Loop for 3000 times\n",
    "    for i in range(3000):\n",
    "\n",
    "        # Reinitialize the maze\n",
    "        maze = Maze()\n",
    "        \n",
    "        # Conduct an action per turn\n",
    "        while not maze.is_game_over():\n",
    "            # Get the current state\n",
    "            state, _ = maze.get_state_and_reward()\n",
    "            \n",
    "            # choose an action (explore or exploit)\n",
    "            action = robot.choose_action(state, maze.allowed_states[state])\n",
    "            \n",
    "            # Update the maze according to the action\n",
    "            maze.update_maze(action)\n",
    "            \n",
    "            # Get the new state and reward\n",
    "            state, reward = maze.get_state_and_reward()\n",
    "            \n",
    "            # Update the robot memory with state and reward\n",
    "            robot.update_state_history(state, reward)\n",
    "            \n",
    "            if maze.steps > 1000:\n",
    "                # End the robot if it takes too long to find the goal\n",
    "                # Set position to (5,5) to end the game\n",
    "                maze.robot_position = (5,5)\n",
    "        \n",
    "        # Robot should learn after every episode\n",
    "        robot.learn()\n",
    "        \n",
    "        if i%250 == 0:\n",
    "            print('\\nLoop:', i+1)\n",
    "            print(maze.movement_history)\n",
    "        \n",
    "        # Get a history of number of steps taken to plot later\n",
    "        moveHistory.append(maze.steps)"
   ]
  },
  {
   "cell_type": "markdown",
   "metadata": {},
   "source": [
    "# Plot Steps Rquired before game over or terminated"
   ]
  },
  {
   "cell_type": "code",
   "execution_count": 7,
   "metadata": {},
   "outputs": [
    {
     "data": {
      "image/png": "[encoded data removed]",
      "text/plain": [
       "<Figure size 1040x240 with 1 Axes>"
      ]
     },
     "metadata": {
      "needs_background": "light"
     },
     "output_type": "display_data"
    }
   ],
   "source": [
    "plt.figure(figsize=(13, 3), dpi=80)\n",
    "plt.semilogy(moveHistory, \"b--\")\n",
    "plt.title('Steps required before game over')\n",
    "plt.ylabel('Number of steps')\n",
    "plt.xlabel('Episode')\n",
    "plt.show()"
   ]
  },
  {
   "cell_type": "markdown",
   "metadata": {},
   "source": [
    "# Check the updated reward table of the agent"
   ]
  },
  {
   "cell_type": "code",
   "execution_count": 8,
   "metadata": {},
   "outputs": [
    {
     "data": {
      "text/plain": [
       "{(0, 0): -9.88264921448807,\n",
       " (1, 0): -8.000000000000007,\n",
       " (2, 0): -7.0000000000000036,\n",
       " (3, 0): -6.0000000000000036,\n",
       " (4, 0): -5.3910193916339475,\n",
       " (5, 0): 0.9179018153408564,\n",
       " (0, 1): -9.363581722895505,\n",
       " (1, 1): -7.775762770427562,\n",
       " (2, 1): -6.50478599551813,\n",
       " (3, 1): -5.0000000000000036,\n",
       " (4, 1): -4.0000000000000036,\n",
       " (5, 1): 0.32387787840770355,\n",
       " (0, 2): -88.41429104117061,\n",
       " (1, 2): -41.136634103803466,\n",
       " (2, 2): 0.7410530250156967,\n",
       " (3, 2): 0.8867305292153932,\n",
       " (4, 2): -3.0000000000000018,\n",
       " (5, 2): 0.14374388741196353,\n",
       " (0, 3): -717.5544178561192,\n",
       " (1, 3): -694.7415204611401,\n",
       " (2, 3): 0.608699209890933,\n",
       " (3, 3): -3.046002603319594,\n",
       " (4, 3): -2.0000000000000018,\n",
       " (5, 3): 0.29530808505355566,\n",
       " (0, 4): -240.17104414817666,\n",
       " (1, 4): -112.68290138463533,\n",
       " (2, 4): 0.6944503092701759,\n",
       " (3, 4): -2.2811680395775626,\n",
       " (4, 4): -1.0000000000000009,\n",
       " (5, 4): 0.6428729216017274,\n",
       " (0, 5): 0.46289825150391706,\n",
       " (1, 5): 0.6551428479493567,\n",
       " (2, 5): 0.7752317735569588,\n",
       " (3, 5): 0.7009911417078816,\n",
       " (4, 5): -7.374718724918216e-26,\n",
       " (5, 5): 2.1253691513193133e-138}"
      ]
     },
     "execution_count": 8,
     "metadata": {},
     "output_type": "execute_result"
    }
   ],
   "source": [
    "robot.G"
   ]
  },
  {
   "cell_type": "markdown",
   "metadata": {},
   "source": [
    "# We visualize the reward table across the environment (x,y)\n",
    "We set the \"walls\" to be -10000\n",
    "\n",
    "Note:\n",
    "- Only the goal is 0\n",
    "- The other path will always be a negative value"
   ]
  },
  {
   "cell_type": "code",
   "execution_count": 9,
   "metadata": {},
   "outputs": [
    {
     "name": "stdout",
     "output_type": "stream",
     "text": [
      "[[    -9.883     -9.364    -88.414   -717.554   -240.171 -10000.   ]\n",
      " [    -8.        -7.776    -41.137   -694.742   -112.683 -10000.   ]\n",
      " [    -7.        -6.505 -10000.    -10000.    -10000.    -10000.   ]\n",
      " [    -6.        -5.    -10000.        -3.046     -2.281 -10000.   ]\n",
      " [    -5.391     -4.        -3.        -2.        -1.        -0.   ]\n",
      " [-10000.    -10000.    -10000.    -10000.    -10000.         0.   ]]\n"
     ]
    }
   ],
   "source": [
    "matrix_G = np.zeros((6,6))\n",
    "\n",
    "for i in robot.G:\n",
    "    x, y = i\n",
    "    reward = robot.G[i]\n",
    "    matrix_G[x,y] = reward\n",
    "\n",
    "matrix_G = np.round(matrix_G,3)\n",
    "matrix_G[matrix_G>0] = -10000\n",
    "\n",
    "np.set_printoptions(suppress=True)\n",
    "print(matrix_G)"
   ]
  },
  {
   "cell_type": "markdown",
   "metadata": {},
   "source": [
    "# Print the best action set"
   ]
  },
  {
   "cell_type": "code",
   "execution_count": 10,
   "metadata": {},
   "outputs": [
    {
     "data": {
      "text/plain": [
       "['D', 'D', 'D', 'R', 'D', 'R', 'R', 'R', 'R', 'D']"
      ]
     },
     "execution_count": 10,
     "metadata": {},
     "output_type": "execute_result"
    }
   ],
   "source": [
    "maze.movement_history"
   ]
  },
  {
   "cell_type": "markdown",
   "metadata": {},
   "source": [
    "# Plot the reward table as a color map"
   ]
  },
  {
   "cell_type": "code",
   "execution_count": 11,
   "metadata": {},
   "outputs": [
    {
     "name": "stderr",
     "output_type": "stream",
     "text": [
      "<ipython-input-11-0189a231843d>:17: MatplotlibDeprecationWarning: default base may change from np.e to 10.  To suppress this warning specify the base keyword argument.\n",
      "  norm=matplotlib.colors.SymLogNorm(10**-logthresh)\n"
     ]
    },
    {
     "data": {
      "image/png": "[encoded data removed]",
      "text/plain": [
       "<Figure size 480x480 with 2 Axes>"
      ]
     },
     "metadata": {
      "needs_background": "light"
     },
     "output_type": "display_data"
    }
   ],
   "source": [
    "#################################################################\n",
    "# Compute parameters to plot log scale color bar\n",
    "#################################################################\n",
    "logthresh = 5\n",
    "vmin = np.min(matrix_G)\n",
    "vmax = np.max([np.max(matrix_G), 1])\n",
    "maxlog=int(np.ceil(np.log10(vmax) ))\n",
    "minlog=int(np.ceil(np.log10(-vmin) ))\n",
    "\n",
    "#################################################################\n",
    "# Plot color map\n",
    "#################################################################\n",
    "plt.figure(figsize=(6, 6), dpi=80)\n",
    "plt.imshow(matrix_G, \n",
    "           cmap='hot', \n",
    "           #interpolation='nearest',\n",
    "           norm=matplotlib.colors.SymLogNorm(10**-logthresh)\n",
    "          )\n",
    "\n",
    "#################################################################\n",
    "# Plot action path from start to goal\n",
    "#################################################################\n",
    "action_list = maze.movement_history\n",
    "\n",
    "start_x = 0\n",
    "start_y = 0\n",
    "for i, action in enumerate(action_list):\n",
    "    end_x = start_x + ACTIONS[action][0]\n",
    "    end_y = start_y + ACTIONS[action][1]\n",
    "    \n",
    "    plt.annotate('', \n",
    "                 xytext=(end_y, end_x),\n",
    "                 xy=(start_y, start_x), \n",
    "                 arrowprops=dict(arrowstyle=\"<-\", color='blue'))\n",
    "    \n",
    "    x_mid = (start_x+end_x)/2\n",
    "    y_mid = (start_y+end_y)/2\n",
    "    \n",
    "    plt.annotate(i+1, \n",
    "                 xytext=(y_mid, x_mid),\n",
    "                 xy=(y_mid, x_mid), \n",
    "                 color='blue',\n",
    "                 textcoords='offset points')\n",
    "    \n",
    "    start_x = end_x\n",
    "    start_y = end_y\n",
    "\n",
    "plt.text(4.75, 5.05, 'Goal', \n",
    "         bbox=dict(fill=False, edgecolor='red', linewidth=2))\n",
    "plt.text(-0.25, 0.05, 'Start', color='white', \n",
    "         bbox=dict(fill=False, edgecolor='red', linewidth=2))\n",
    "    \n",
    "#################################################################\n",
    "# Generate logarithmic ticks \n",
    "#################################################################\n",
    "tick_locations=([-(10**x) for x in range(minlog,-logthresh-1,-2)]\n",
    "                +[0.0]\n",
    "                +[(10**x) for x in range(-logthresh,maxlog+1,2)])\n",
    "\n",
    "#################################################################\n",
    "# Generating grid for clearer illustration\n",
    "#################################################################\n",
    "ax = plt.gca();\n",
    "\n",
    "# Major ticks\n",
    "ax.set_xticks(np.arange(0, 6, 1))\n",
    "ax.set_yticks(np.arange(0, 6, 1))\n",
    "\n",
    "# Labels for major ticks\n",
    "ax.set_xticklabels(np.arange(1, 7, 1))\n",
    "ax.set_yticklabels(np.arange(1, 7, 1))\n",
    "\n",
    "# Minor ticks\n",
    "ax.set_xticks(np.arange(-.5, 6, 1), minor=True)\n",
    "ax.set_yticks(np.arange(-.5, 6, 1), minor=True)\n",
    "\n",
    "# Gridlines based on minor ticks\n",
    "ax.grid(which='minor', color='k', linestyle='-', linewidth=2)\n",
    "\n",
    "#################################################################\n",
    "# Add description\n",
    "#################################################################\n",
    "plt.title('Optimal Path from Start to Goal')\n",
    "plt.xlabel('x-axis')\n",
    "plt.ylabel('y-axis')\n",
    "\n",
    "cbar = plt.colorbar(ticks=tick_locations)\n",
    "cbar.set_label('Reward')\n",
    "\n",
    "plt.show()"
   ]
  },
  {
   "cell_type": "code",
   "execution_count": null,
   "metadata": {},
   "outputs": [],
   "source": []
  }
 ],
 "metadata": {
  "kernelspec": {
   "display_name": "Python 3",
   "language": "python",
   "name": "python3"
  },
  "language_info": {
   "codemirror_mode": {
    "name": "ipython",
    "version": 3
   },
   "file_extension": ".py",
   "mimetype": "text/x-python",
   "name": "python",
   "nbconvert_exporter": "python",
   "pygments_lexer": "ipython3",
   "version": "3.8.3"
  }
 },
 "nbformat": 4,
 "nbformat_minor": 5
}
